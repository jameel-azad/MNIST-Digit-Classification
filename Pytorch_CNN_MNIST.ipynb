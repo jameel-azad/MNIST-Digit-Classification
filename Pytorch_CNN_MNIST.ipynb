{
  "nbformat": 4,
  "nbformat_minor": 0,
  "metadata": {
    "colab": {
      "provenance": []
    },
    "kernelspec": {
      "name": "python3",
      "display_name": "Python 3"
    },
    "accelerator": "GPU"
  },
  "cells": [
    {
      "cell_type": "markdown",
      "source": [
        "**Mount the gdrive to Colab Notebook**"
      ],
      "metadata": {
        "id": "i88ZhLbJhHEV"
      }
    },
    {
      "cell_type": "code",
      "metadata": {
        "id": "pak2tqp8KXqA",
        "colab": {
          "base_uri": "https://localhost:8080/"
        },
        "outputId": "10b3c3d6-18c7-4576-c3be-91d990e2a30d"
      },
      "source": [
        "from google.colab import drive\n",
        "drive.mount('/content/drive')"
      ],
      "execution_count": null,
      "outputs": [
        {
          "output_type": "stream",
          "name": "stdout",
          "text": [
            "Mounted at /content/drive\n"
          ]
        }
      ]
    },
    {
      "cell_type": "markdown",
      "source": [
        "**Import Package**"
      ],
      "metadata": {
        "id": "_FwVLK-ChPXs"
      }
    },
    {
      "cell_type": "code",
      "metadata": {
        "id": "AcsCTfIl-m6K"
      },
      "source": [
        "import torch\n",
        "import torch.nn as nn\n",
        "import torch.nn.functional as F\n",
        "import torch.optim as optim\n",
        "from torchvision import transforms\n",
        "import numpy as np\n",
        "import matplotlib.pyplot as plt\n",
        "from torchvision.datasets import MNIST\n",
        "from torch.utils.data import DataLoader, Dataset, random_split\n"
      ],
      "execution_count": null,
      "outputs": []
    },
    {
      "cell_type": "markdown",
      "source": [
        "**Set Parameter & Download Dataset**"
      ],
      "metadata": {
        "id": "jx9wosoNhXZ_"
      }
    },
    {
      "cell_type": "code",
      "metadata": {
        "id": "VBkjj_qD-swG",
        "colab": {
          "base_uri": "https://localhost:8080/"
        },
        "outputId": "6614a554-45c2-44b4-e11c-b2734dc146df"
      },
      "source": [
        "# Parameters\n",
        "batch_size = 128\n",
        "num_classes = 10\n",
        "epochs = 2\n",
        "img_rows, img_cols = 28, 28\n",
        "\n",
        "# Define the data transform\n",
        "transform = transforms.Compose([\n",
        "    transforms.ToTensor(),  # Convert PIL image or numpy array to tensor\n",
        "    transforms.Normalize((0.1307,), (0.3081,))  # Normalize the dataset\n",
        "])\n",
        "\n",
        "# Load the data\n",
        "train_dataset = MNIST(root='./data', train=True, download=True, transform=transform)\n",
        "test_dataset = MNIST(root='./data', train=False, download=True, transform=transform)\n",
        "\n",
        "# Create DataLoader objects\n",
        "train_loader = DataLoader(dataset=train_dataset, batch_size=batch_size, shuffle=True)\n",
        "test_loader = DataLoader(dataset=test_dataset, batch_size=batch_size, shuffle=False)\n",
        "\n",
        "# Example of how to access the data\n",
        "for batch_idx, (data, target) in enumerate(train_loader):\n",
        "    print(data.shape, target.shape)  # Example output: torch.Size([128, 1, 28, 28]) torch.Size([128])\n",
        "    break\n",
        "\n",
        "# input_shape variable\n",
        "input_shape = (1, img_rows, img_cols)"
      ],
      "execution_count": null,
      "outputs": [
        {
          "output_type": "stream",
          "name": "stdout",
          "text": [
            "torch.Size([128, 1, 28, 28]) torch.Size([128])\n"
          ]
        }
      ]
    },
    {
      "cell_type": "markdown",
      "source": [
        "**Normalize Dataset**\n"
      ],
      "metadata": {
        "id": "it4X9hafhjfa"
      }
    },
    {
      "cell_type": "code",
      "metadata": {
        "id": "pzn_gW24-vGQ",
        "colab": {
          "base_uri": "https://localhost:8080/"
        },
        "outputId": "39538ac4-3091-4176-c81e-4bd04955a677"
      },
      "source": [
        "# Example of how to access the data\n",
        "for data, target in train_loader:\n",
        "    print(f'Batch data shape: {data.shape}')  # Example output: torch.Size([128, 1, 28, 28])\n",
        "    print(f'Batch target shape: {target.shape}')  # Example output: torch.Size([128])\n",
        "    break\n",
        "\n",
        "# Print dataset shapes\n",
        "print(f'x_train shape: {train_dataset.data.shape}')\n",
        "print(f'{len(train_dataset)} train samples')\n",
        "print(f'{len(test_dataset)} test samples')\n",
        "\n",
        "\n"
      ],
      "execution_count": null,
      "outputs": [
        {
          "output_type": "stream",
          "name": "stdout",
          "text": [
            "Batch data shape: torch.Size([128, 1, 28, 28])\n",
            "Batch target shape: torch.Size([128])\n",
            "x_train shape: torch.Size([60000, 28, 28])\n",
            "60000 train samples\n",
            "10000 test samples\n"
          ]
        }
      ]
    },
    {
      "cell_type": "markdown",
      "source": [
        "**Create CNN Model**"
      ],
      "metadata": {
        "id": "8Uuc5K_BhqP7"
      }
    },
    {
      "cell_type": "code",
      "metadata": {
        "id": "Hl-3lvzy-feX",
        "colab": {
          "base_uri": "https://localhost:8080/"
        },
        "outputId": "9bbdeb1e-8d77-40fa-e6f3-a96e40642492"
      },
      "source": [
        "# Define the neural network architecture\n",
        "class ConvNet(nn.Module):\n",
        "    def __init__(self, num_classes=10):\n",
        "        super(ConvNet, self).__init__()\n",
        "        self.conv1 = nn.Conv2d(1, 32, kernel_size=3)\n",
        "        self.conv2 = nn.Conv2d(32, 64, kernel_size=3)\n",
        "        self.pool = nn.MaxPool2d(kernel_size=2)\n",
        "        self.dropout1 = nn.Dropout(0.25)\n",
        "        self.flatten = nn.Flatten()\n",
        "        self.fc1 = nn.Linear(64 * 12 * 12, 128)  # Adjust the size according to your input dimensions\n",
        "        self.dropout2 = nn.Dropout(0.5)\n",
        "        self.fc2 = nn.Linear(128, num_classes)\n",
        "\n",
        "    def forward(self, x):\n",
        "        x = F.relu(self.conv1(x))\n",
        "        x = F.relu(self.conv2(x))\n",
        "        x = self.pool(x)\n",
        "        x = self.dropout1(x)\n",
        "        x = self.flatten(x)\n",
        "        x = F.relu(self.fc1(x))\n",
        "        x = self.dropout2(x)\n",
        "        x = self.fc2(x)  # No softmax here\n",
        "        return x\n",
        "\n",
        "# Initialize the model, loss function, and optimizer\n",
        "model = ConvNet(num_classes=10)\n",
        "criterion = nn.CrossEntropyLoss()\n",
        "optimizer = torch.optim.Adam(model.parameters(), lr=0.001)\n",
        "\n",
        "# Print model summary\n",
        "print(model)"
      ],
      "execution_count": null,
      "outputs": [
        {
          "output_type": "stream",
          "name": "stdout",
          "text": [
            "ConvNet(\n",
            "  (conv1): Conv2d(1, 32, kernel_size=(3, 3), stride=(1, 1))\n",
            "  (conv2): Conv2d(32, 64, kernel_size=(3, 3), stride=(1, 1))\n",
            "  (pool): MaxPool2d(kernel_size=2, stride=2, padding=0, dilation=1, ceil_mode=False)\n",
            "  (dropout1): Dropout(p=0.25, inplace=False)\n",
            "  (flatten): Flatten(start_dim=1, end_dim=-1)\n",
            "  (fc1): Linear(in_features=9216, out_features=128, bias=True)\n",
            "  (dropout2): Dropout(p=0.5, inplace=False)\n",
            "  (fc2): Linear(in_features=128, out_features=10, bias=True)\n",
            ")\n"
          ]
        }
      ]
    },
    {
      "cell_type": "markdown",
      "source": [
        "**Compile Model and Train Model**"
      ],
      "metadata": {
        "id": "dzU-qbkChxaF"
      }
    },
    {
      "cell_type": "code",
      "metadata": {
        "id": "pVphEMI--3sI",
        "colab": {
          "base_uri": "https://localhost:8080/"
        },
        "outputId": "5b7b652e-9dec-40e7-a662-58a70fb39ee8"
      },
      "source": [
        "from tqdm import tqdm\n",
        "\n",
        "# Training the model\n",
        "num_epochs = 12\n",
        "device = torch.device('cuda' if torch.cuda.is_available() else 'cpu')\n",
        "model.to(device)\n",
        "\n",
        "# Lists to store metrics\n",
        "train_losses = []\n",
        "test_losses = []\n",
        "train_accuracies = []\n",
        "test_accuracies = []\n",
        "\n",
        "for epoch in range(num_epochs):\n",
        "    model.train()\n",
        "    running_loss = 0.0\n",
        "    correct = 0\n",
        "    total = 0\n",
        "\n",
        "    # Wrap train_loader with tqdm for progress bar\n",
        "    for batch_idx, (data, target) in enumerate(tqdm(train_loader, desc=f'Epoch {epoch+1}/{num_epochs}')):\n",
        "        data, target = data.to(device), target.to(device)\n",
        "\n",
        "        # Zero the parameter gradients\n",
        "        optimizer.zero_grad()\n",
        "\n",
        "        # Forward pass\n",
        "        outputs = model(data)\n",
        "        loss = criterion(outputs, target)\n",
        "\n",
        "        # Backward pass and optimize\n",
        "        loss.backward()\n",
        "        optimizer.step()\n",
        "\n",
        "        # Update running loss\n",
        "        running_loss += loss.item()\n",
        "\n",
        "        # Calculate accuracy\n",
        "        _, predicted = torch.max(outputs.data, 1)\n",
        "        total += target.size(0)\n",
        "        correct += (predicted == target).sum().item()\n",
        "\n",
        "    # Compute average loss and accuracy for the epoch\n",
        "    train_loss = running_loss / len(train_loader)\n",
        "    train_accuracy = 100 * correct / total\n",
        "\n",
        "    train_losses.append(train_loss)\n",
        "    train_accuracies.append(train_accuracy)\n",
        "\n",
        "    # Evaluate on test data\n",
        "    model.eval()\n",
        "    test_loss = 0.0\n",
        "    correct = 0\n",
        "    total = 0\n",
        "    with torch.no_grad():\n",
        "        for data, target in test_loader:\n",
        "            data, target = data.to(device), target.to(device)\n",
        "            outputs = model(data)\n",
        "            loss = criterion(outputs, target)\n",
        "            test_loss += loss.item()\n",
        "\n",
        "            _, predicted = torch.max(outputs.data, 1)\n",
        "            total += target.size(0)\n",
        "            correct += (predicted == target).sum().item()\n",
        "\n",
        "    test_loss /= len(test_loader)\n",
        "    test_accuracy = 100 * correct / total\n",
        "\n",
        "    test_losses.append(test_loss)\n",
        "    test_accuracies.append(test_accuracy)\n",
        "\n",
        "    print(f'Epoch [{epoch+1}/{num_epochs}], Train Loss: {train_loss:.4f}, Train Accuracy: {train_accuracy:.2f}%, Test Loss: {test_loss:.4f}, Test Accuracy: {test_accuracy:.2f}%')\n",
        "\n",
        "# Save the metrics\n",
        "torch.save({\n",
        "    'train_losses': train_losses,\n",
        "    'test_losses': test_losses,\n",
        "    'train_accuracies': train_accuracies,\n",
        "    'test_accuracies': test_accuracies\n",
        "}, 'model_metrics.pth')\n"
      ],
      "execution_count": null,
      "outputs": [
        {
          "output_type": "stream",
          "name": "stderr",
          "text": [
            "Epoch 1/12: 100%|██████████| 469/469 [00:19<00:00, 23.66it/s]\n"
          ]
        },
        {
          "output_type": "stream",
          "name": "stdout",
          "text": [
            "Epoch [1/12], Train Loss: 0.2255, Train Accuracy: 93.11%, Test Loss: 0.0524, Test Accuracy: 98.19%\n"
          ]
        },
        {
          "output_type": "stream",
          "name": "stderr",
          "text": [
            "Epoch 2/12: 100%|██████████| 469/469 [00:17<00:00, 27.01it/s]\n"
          ]
        },
        {
          "output_type": "stream",
          "name": "stdout",
          "text": [
            "Epoch [2/12], Train Loss: 0.0810, Train Accuracy: 97.56%, Test Loss: 0.0359, Test Accuracy: 98.82%\n"
          ]
        },
        {
          "output_type": "stream",
          "name": "stderr",
          "text": [
            "Epoch 3/12: 100%|██████████| 469/469 [00:18<00:00, 25.58it/s]\n"
          ]
        },
        {
          "output_type": "stream",
          "name": "stdout",
          "text": [
            "Epoch [3/12], Train Loss: 0.0602, Train Accuracy: 98.17%, Test Loss: 0.0315, Test Accuracy: 99.01%\n"
          ]
        },
        {
          "output_type": "stream",
          "name": "stderr",
          "text": [
            "Epoch 4/12: 100%|██████████| 469/469 [00:17<00:00, 27.16it/s]\n"
          ]
        },
        {
          "output_type": "stream",
          "name": "stdout",
          "text": [
            "Epoch [4/12], Train Loss: 0.0493, Train Accuracy: 98.54%, Test Loss: 0.0283, Test Accuracy: 99.03%\n"
          ]
        },
        {
          "output_type": "stream",
          "name": "stderr",
          "text": [
            "Epoch 5/12: 100%|██████████| 469/469 [00:18<00:00, 25.76it/s]\n"
          ]
        },
        {
          "output_type": "stream",
          "name": "stdout",
          "text": [
            "Epoch [5/12], Train Loss: 0.0437, Train Accuracy: 98.62%, Test Loss: 0.0279, Test Accuracy: 99.10%\n"
          ]
        },
        {
          "output_type": "stream",
          "name": "stderr",
          "text": [
            "Epoch 6/12: 100%|██████████| 469/469 [00:17<00:00, 27.11it/s]\n"
          ]
        },
        {
          "output_type": "stream",
          "name": "stdout",
          "text": [
            "Epoch [6/12], Train Loss: 0.0387, Train Accuracy: 98.83%, Test Loss: 0.0291, Test Accuracy: 99.09%\n"
          ]
        },
        {
          "output_type": "stream",
          "name": "stderr",
          "text": [
            "Epoch 7/12: 100%|██████████| 469/469 [00:17<00:00, 26.20it/s]\n"
          ]
        },
        {
          "output_type": "stream",
          "name": "stdout",
          "text": [
            "Epoch [7/12], Train Loss: 0.0341, Train Accuracy: 98.92%, Test Loss: 0.0272, Test Accuracy: 99.13%\n"
          ]
        },
        {
          "output_type": "stream",
          "name": "stderr",
          "text": [
            "Epoch 8/12: 100%|██████████| 469/469 [00:18<00:00, 25.52it/s]\n"
          ]
        },
        {
          "output_type": "stream",
          "name": "stdout",
          "text": [
            "Epoch [8/12], Train Loss: 0.0308, Train Accuracy: 99.02%, Test Loss: 0.0264, Test Accuracy: 99.15%\n"
          ]
        },
        {
          "output_type": "stream",
          "name": "stderr",
          "text": [
            "Epoch 9/12: 100%|██████████| 469/469 [00:18<00:00, 25.96it/s]\n"
          ]
        },
        {
          "output_type": "stream",
          "name": "stdout",
          "text": [
            "Epoch [9/12], Train Loss: 0.0286, Train Accuracy: 99.06%, Test Loss: 0.0275, Test Accuracy: 99.14%\n"
          ]
        },
        {
          "output_type": "stream",
          "name": "stderr",
          "text": [
            "Epoch 10/12: 100%|██████████| 469/469 [00:17<00:00, 27.11it/s]\n"
          ]
        },
        {
          "output_type": "stream",
          "name": "stdout",
          "text": [
            "Epoch [10/12], Train Loss: 0.0258, Train Accuracy: 99.15%, Test Loss: 0.0268, Test Accuracy: 99.17%\n"
          ]
        },
        {
          "output_type": "stream",
          "name": "stderr",
          "text": [
            "Epoch 11/12: 100%|██████████| 469/469 [00:17<00:00, 26.36it/s]\n"
          ]
        },
        {
          "output_type": "stream",
          "name": "stdout",
          "text": [
            "Epoch [11/12], Train Loss: 0.0232, Train Accuracy: 99.23%, Test Loss: 0.0285, Test Accuracy: 99.20%\n"
          ]
        },
        {
          "output_type": "stream",
          "name": "stderr",
          "text": [
            "Epoch 12/12: 100%|██████████| 469/469 [00:17<00:00, 26.88it/s]\n"
          ]
        },
        {
          "output_type": "stream",
          "name": "stdout",
          "text": [
            "Epoch [12/12], Train Loss: 0.0221, Train Accuracy: 99.28%, Test Loss: 0.0336, Test Accuracy: 99.01%\n"
          ]
        }
      ]
    },
    {
      "cell_type": "markdown",
      "source": [
        "**Plot Test Dataset**"
      ],
      "metadata": {
        "id": "sh5nVAMch7df"
      }
    },
    {
      "cell_type": "code",
      "metadata": {
        "id": "2lnjcul6DPbH",
        "colab": {
          "base_uri": "https://localhost:8080/",
          "height": 428
        },
        "outputId": "c344f892-00be-4345-df95-25a2d6ca409e"
      },
      "source": [
        "#print(x_test[500].shape)\n",
        "\n",
        "sample_index = 1500\n",
        "batch_size = test_loader.batch_size\n",
        "\n",
        "batch_index = sample_index // batch_size\n",
        "sample_index_in_batch = sample_index % batch_size\n",
        "\n",
        "for i, (data, target) in enumerate(test_loader):\n",
        "    if i == batch_index:\n",
        "        # Get the data tensor for the sample at index 500\n",
        "        sample_data = data[sample_index_in_batch].squeeze().cpu().numpy()\n",
        "        break\n",
        "else:\n",
        "    print(f\"Sample {sample_index} does not exist in the test dataset.\")\n",
        "\n",
        "\n",
        "# Show the test image\n",
        "# Plot the data tensor for the sample at index 500\n",
        "plt.imshow(sample_data, cmap='gray')\n",
        "plt.title(f'Sample {sample_index}')\n",
        "plt.axis('off')\n",
        "plt.show()"
      ],
      "execution_count": null,
      "outputs": [
        {
          "output_type": "display_data",
          "data": {
            "text/plain": [
              "<Figure size 640x480 with 1 Axes>"
            ],
            "image/png": "[encoded data removed]"
          },
          "metadata": {}
        }
      ]
    },
    {
      "cell_type": "markdown",
      "source": [
        "**Predict, Save and Load Model**\n",
        "# Answer Question 1 - Prediction"
      ],
      "metadata": {
        "id": "7m3UDpFyiEvz"
      }
    },
    {
      "cell_type": "code",
      "metadata": {
        "id": "kMnhM9EzDJQS",
        "colab": {
          "base_uri": "https://localhost:8080/"
        },
        "outputId": "e84a5a7e-0eb3-4ca8-c0dc-58af3e4e9cad"
      },
      "source": [
        "#data = x_test[500]\n",
        "#dt = np.reshape(data, [1, 28, 28, 1])\n",
        "\n",
        "# Predict dt from the trained model\n",
        "\n",
        "\n",
        "# Load the image and preprocess it\n",
        "sample_data_tensor = torch.tensor(sample_data, dtype=torch.float32).unsqueeze(0).unsqueeze(0).to('cuda')\n",
        "\n",
        "\n",
        "# Set the model to evaluation mode\n",
        "model.eval()\n",
        "\n",
        "# Perform inference\n",
        "with torch.no_grad():\n",
        "    ##Answer Here##\n",
        "    outputs = model(sample_data_tensor)\n",
        "    predicted_probs = torch.softmax(outputs, dim=1)\n",
        "\n",
        "# Convert the predicted probabilities tensor to a numpy array\n",
        "predicted_probs_np = predicted_probs.cpu().numpy()\n",
        "predicted_probs_np = np.round(predicted_probs_np, 3)\n",
        "\n",
        "\n",
        "# Get the predicted class (index with the highest probability)\n",
        "predicted_class = np.argmax(predicted_probs_np)\n",
        "print(\"Predicted class probabilities:\", predicted_probs_np)\n",
        "print(\"Predicted class:\", predicted_class)"
      ],
      "execution_count": null,
      "outputs": [
        {
          "output_type": "stream",
          "name": "stdout",
          "text": [
            "Predicted class probabilities: [[0.    0.    0.    0.001 0.    0.    0.    0.999 0.    0.   ]]\n",
            "Predicted class: 7\n"
          ]
        }
      ]
    },
    {
      "cell_type": "markdown",
      "source": [
        "# Answer Question 2 - Save Model\n"
      ],
      "metadata": {
        "id": "CFCmg2SHHcX1"
      }
    },
    {
      "cell_type": "code",
      "metadata": {
        "id": "p_rDg0pNCfx6"
      },
      "source": [
        "# Save the model to your Google Drive folder\n",
        "\n",
        "# Specify the file path\n",
        "model_path = '/content/drive/My Drive/Colab Notebooks/MNIST_MODEL/modelcnn.pt'\n",
        "\n",
        "\n",
        "# Save both the model architecture and its trained weights\n",
        "##Answer Here##\n",
        "torch.save(model, model_path)\n",
        "\n",
        "# Save trained weights\n",
        "##Answer Here##\n",
        "torch.save(model.state_dict(),model_path)"
      ],
      "execution_count": null,
      "outputs": []
    },
    {
      "cell_type": "markdown",
      "source": [
        "\n",
        "# Answer Question 3 - Load Model\n",
        "\n",
        "\n"
      ],
      "metadata": {
        "id": "dTTQlU4oId9G"
      }
    },
    {
      "cell_type": "code",
      "metadata": {
        "id": "2vSbn6w-Jlqc"
      },
      "source": [
        "# load the model from your google drive folder\n",
        "model_path = '/content/drive/My Drive/Colab Notebooks/MNIST_MODEL/modelcnn.pt'\n",
        "\n",
        "# Initialize your model instance\n",
        "loaded_model = ConvNet()\n",
        "\n",
        "# Load the state dictionary\n",
        "## Answer Here ##\n",
        "state_dict = torch.load(model_path)\n",
        "\n",
        "# Load the state dictionary into the model\n",
        "loaded_model.load_state_dict(state_dict)\n",
        "\n",
        "# Set the model to evaluation mode\n",
        "loaded_model.eval()\n",
        "\n",
        "# Perform inference\n",
        "with torch.no_grad():\n",
        "    outputs1 = loaded_model(sample_data_tensor)\n",
        "    predicted_probs1 = torch.softmax(outputs1, dim=1)\n",
        "\n",
        "# Convert the predicted probabilities tensor to a numpy array\n",
        "predicted_probs_np1 = predicted_probs1.cpu().numpy()\n",
        "predicted_probs_np1 = np.round(predicted_probs_np1, 3)\n",
        "\n",
        "\n",
        "# Get the predicted class (index with the highest probability)\n",
        "predicted_class1 = np.argmax(predicted_probs_np1)\n",
        "print(\"Predicted class probabilities:\", predicted_probs_np1)\n",
        "print(\"Predicted class:\", predicted_class1)"
      ],
      "execution_count": null,
      "outputs": []
    },
    {
      "cell_type": "code",
      "source": [],
      "metadata": {
        "id": "EvbRqGMIv5AJ"
      },
      "execution_count": null,
      "outputs": []
    }
  ]
}